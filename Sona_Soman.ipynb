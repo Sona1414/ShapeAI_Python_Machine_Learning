{
  "nbformat": 4,
  "nbformat_minor": 0,
  "metadata": {
    "colab": {
      "name": "Sona_Soman.ipynb",
      "provenance": []
    },
    "kernelspec": {
      "name": "python3",
      "display_name": "Python 3"
    },
    "language_info": {
      "name": "python"
    }
  },
  "cells": [
    {
      "cell_type": "code",
      "metadata": {
        "id": "r7WVsF2weeWV"
      },
      "source": [
        "import numpy as np\n",
        "import pandas as pd\n",
        "import sklearn\n",
        "from sklearn.datasets import load_boston\n",
        "df=load_boston()\n",
        "df.keys()\n",
        "print(df.DESCR)"
      ],
      "execution_count": null,
      "outputs": []
    },
    {
      "cell_type": "code",
      "metadata": {
        "id": "dofYxNtYksE7"
      },
      "source": [
        "boston=pd.DataFrame(df.data,columns=df.feature_names)\n",
        "boston.head(9)"
      ],
      "execution_count": null,
      "outputs": []
    },
    {
      "cell_type": "code",
      "metadata": {
        "id": "k9gScLJXmLFh"
      },
      "source": [
        "boston['MEDV']=df.target\n",
        "boston.head()"
      ],
      "execution_count": null,
      "outputs": []
    },
    {
      "cell_type": "code",
      "metadata": {
        "id": "RuanyTWgm7Iv"
      },
      "source": [
        "boston.isnull()"
      ],
      "execution_count": null,
      "outputs": []
    },
    {
      "cell_type": "code",
      "metadata": {
        "id": "oV98AsMonh1e"
      },
      "source": [
        "boston.isnull().sum()"
      ],
      "execution_count": null,
      "outputs": []
    },
    {
      "cell_type": "code",
      "metadata": {
        "id": "HOR6y9mqpWdW"
      },
      "source": [
        "from sklearn.model_selection import train_test_split\n",
        "x=boston.drop('MEDV',axis=1)\n",
        "y=boston['MEDV']\n",
        "x_train,x_test,y_train,y_test=train_test_split(x,y,test_size=0.15,random_state=5)"
      ],
      "execution_count": 26,
      "outputs": []
    },
    {
      "cell_type": "code",
      "metadata": {
        "id": "GC2Xmir8wflZ"
      },
      "source": [
        "print(x_train.shape)\n",
        "print(x_test.shape)\n",
        "print(y_train.shape)\n",
        "print(y_test.shape)"
      ],
      "execution_count": null,
      "outputs": []
    },
    {
      "cell_type": "code",
      "metadata": {
        "id": "y3WjMqurxq_g"
      },
      "source": [
        "from sklearn.linear_model import LinearRegression\n",
        "from sklearn.metrics import mean_squared_error\n",
        "lin_model=LinearRegression()\n",
        "lin_model.fit(x_train,y_train)"
      ],
      "execution_count": null,
      "outputs": []
    },
    {
      "cell_type": "code",
      "metadata": {
        "id": "WkLB_I1BzjTc"
      },
      "source": [
        "y_train_predict=lin_model.predict(x_train)\n",
        "rmse=(np.sqrt(mean_squared_error(y_train,y_train_predict)))\n",
        "print(\"The model performance of the training set\")\n",
        "print(\"RMSE is {}\".format(rmse))\n",
        "\n",
        "y_test_predict=lin_model.predict(x_test)\n",
        "rmse=(np.sqrt(mean_squared_error(y_test,y_test_predict)))\n",
        "print(\"The model performance of the training set\")\n",
        "print(\"RMSE is {}\".format(rmse))"
      ],
      "execution_count": null,
      "outputs": []
    }
  ]
}